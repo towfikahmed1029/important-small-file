{
 "cells": [
  {
   "cell_type": "code",
   "execution_count": null,
   "metadata": {},
   "outputs": [],
   "source": [
    "from openpyxl import Workbook,load_workbook\n",
    "import openpyxl\n",
    "import os\n",
    "from bs4 import BeautifulSoup\n",
    "import requests\n",
    "import time"
   ]
  },
  {
   "cell_type": "code",
   "execution_count": null,
   "metadata": {},
   "outputs": [],
   "source": [
    "URL = \"https://www.gerho.it/DIOSOL-3-LIQUIDO-5kg./0060233\"\n",
    "page = requests.get(URL).content\n",
    "soup = BeautifulSoup(page, 'html.parser')\n",
    "try:\n",
    "    manufacture = soup.find('div', class_=\"product-detail-manufacturer\")\n",
    "    manufacture = manufacture.text.replace(\"  \",\"\").split(\"\\n\")[3]\n",
    "except : \n",
    "    manufacture = \" \"\n",
    "print(manufacture)"
   ]
  },
  {
   "cell_type": "code",
   "execution_count": null,
   "metadata": {},
   "outputs": [],
   "source": [
    "### Excel Data change\n",
    "excel_file_name = \"file 12.xlsx\" \n",
    "cell_row = 1\n",
    "while True:\n",
    "    try:\n",
    "        workbook = load_workbook(filename=excel_file_name)\n",
    "        spreadsheet = workbook.active\n",
    "        \n",
    "        URL = spreadsheet.cell(row = cell_row, column = 1).value ### Value row number\n",
    "\n",
    "        spreadsheet.cell(row = cell_row, column = 9).value = pdf_link  ### Add value row number\n",
    "        workbook.save(filename=excel_file_name)\n",
    "        print(cell_row)\n",
    "        cell_row += 1\n",
    "    except Exception:\n",
    "        time.sleep(30)\n",
    "        pass"
   ]
  },
  {
   "cell_type": "code",
   "execution_count": null,
   "metadata": {},
   "outputs": [],
   "source": [
    "excel_file_name = \"product.xlsx\"\n",
    "#### Create Workbook File\n",
    "def create_workbook():\n",
    "    open(excel_file_name, \"a\")\n",
    "    if os.path.getsize(excel_file_name) == 0:\n",
    "        workbook = Workbook()\n",
    "        spreadsheet = workbook.active\n",
    "        spreadsheet.cell(row=1, column=1).value=\"Title\"\n",
    "        spreadsheet.cell(row=1, column=2).value=\"Manufacture\"\n",
    "        spreadsheet.cell(row=1, column=3).value=\"ID\"\n",
    "        spreadsheet.cell(row=1, column=4).value=\"Description\"\n",
    "        spreadsheet.cell(row=1, column=5).value=\"Price\"\n",
    "        spreadsheet.cell(row=1, column=6).value=\"Image\"\n",
    "        spreadsheet.cell(row=1, column=7).value=\"URL\"\n",
    "        workbook.save(filename=excel_file_name)\n",
    "        \n",
    "### Add Products Details in Excel Sheet\n",
    "def excel_add(product_details):\n",
    "\n",
    "\n",
    "    workbook = load_workbook(filename=excel_file_name)\n",
    "    spreadsheet = workbook.active\n",
    "    ### Write\n",
    "    empty_cell_row = 1\n",
    "    while True:\n",
    "        cell_value = spreadsheet.cell(row = empty_cell_row, column = 1).value\n",
    "        if cell_value == None:\n",
    "            break\n",
    "        empty_cell_row += 1\n",
    "    entry_column = 1\n",
    "    for i in product_details:\n",
    "        spreadsheet.cell(row = empty_cell_row, column = entry_column).value = i\n",
    "        entry_column += 1\n",
    "\n",
    "    workbook.save(filename=excel_file_name)\n",
    "\n",
    "#### Duplicate value check in EXCEL Sheet\n",
    "def dup_check(URL):\n",
    "    workbook = openpyxl.open(excel_file_name)\n",
    "    spreadsheet = workbook.active\n",
    "    number_rows = spreadsheet.max_row\n",
    "    number_columns = spreadsheet.max_column\n",
    "    for row in range(1, number_rows+ 1):\n",
    "        for column in range(1, number_columns+ 1):\n",
    "            cell = spreadsheet.cell(row, column)\n",
    "            if cell.value == URL:\n",
    "                print(\"Duplicate Found\")\n",
    "                return True\n",
    "            else:\n",
    "                pass\n",
    "    return False"
   ]
  }
 ],
 "metadata": {
  "kernelspec": {
   "display_name": "Python 3",
   "language": "python",
   "name": "python3"
  },
  "language_info": {
   "codemirror_mode": {
    "name": "ipython",
    "version": 3
   },
   "file_extension": ".py",
   "mimetype": "text/x-python",
   "name": "python",
   "nbconvert_exporter": "python",
   "pygments_lexer": "ipython3",
   "version": "3.8.10"
  },
  "orig_nbformat": 4,
  "vscode": {
   "interpreter": {
    "hash": "916dbcbb3f70747c44a77c7bcd40155683ae19c65e1c03b4aa3499c5328201f1"
   }
  }
 },
 "nbformat": 4,
 "nbformat_minor": 2
}
